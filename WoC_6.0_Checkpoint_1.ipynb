{
 "cells": [
  {
   "cell_type": "markdown",
   "metadata": {},
   "source": [
    "#### basic imports"
   ]
  },
  {
   "cell_type": "code",
   "execution_count": 28,
   "metadata": {},
   "outputs": [],
   "source": [
    "# python version 3.11.0\n",
    "import numpy as np"
   ]
  },
  {
   "cell_type": "markdown",
   "metadata": {},
   "source": [
    "#### 1. np.array()"
   ]
  },
  {
   "cell_type": "code",
   "execution_count": 29,
   "metadata": {},
   "outputs": [
    {
     "name": "stdout",
     "output_type": "stream",
     "text": [
      "[1 2 3 4 5]\n"
     ]
    }
   ],
   "source": [
    "# create an array of given input\n",
    "simple_array = np.array([1, 2, 3, 4, 5])\n",
    "print(simple_array)"
   ]
  },
  {
   "cell_type": "markdown",
   "metadata": {},
   "source": [
    "#### 2. np.zeros()"
   ]
  },
  {
   "cell_type": "code",
   "execution_count": 30,
   "metadata": {},
   "outputs": [
    {
     "name": "stdout",
     "output_type": "stream",
     "text": [
      "[0. 0. 0. 0. 0. 0. 0. 0. 0. 0.]\n"
     ]
    }
   ],
   "source": [
    "# simply create an array of 10 with every element as being 0\n",
    "zero_array = np.zeros(10)\n",
    "print(zero_array)"
   ]
  },
  {
   "cell_type": "markdown",
   "metadata": {},
   "source": [
    "#### 3. np.ones()"
   ]
  },
  {
   "cell_type": "code",
   "execution_count": 31,
   "metadata": {},
   "outputs": [
    {
     "name": "stdout",
     "output_type": "stream",
     "text": [
      "[1. 1. 1. 1. 1. 1. 1. 1. 1. 1.]\n"
     ]
    }
   ],
   "source": [
    "# simply create an array of 10 with every element being 1\n",
    "one_array = np.ones(10)\n",
    "print(one_array)"
   ]
  },
  {
   "cell_type": "markdown",
   "metadata": {},
   "source": [
    "#### 4. np.reshape()"
   ]
  },
  {
   "cell_type": "code",
   "execution_count": 47,
   "metadata": {},
   "outputs": [
    {
     "name": "stdout",
     "output_type": "stream",
     "text": [
      "shape of orignal array:  (5,) \n",
      "\n",
      "new array:  [[1]\n",
      " [2]\n",
      " [3]\n",
      " [4]\n",
      " [5]] \n",
      "\n",
      "shape of new array:  (5, 1)\n",
      "shape of another array:  (6,) \n",
      "\n",
      "another new array:  [[1 2 3]\n",
      " [4 5 6]] \n",
      "\n",
      "shape of another new array:  (2, 3)\n"
     ]
    }
   ],
   "source": [
    "# simply reshape the array according to input if possible\n",
    "simple_array = np.array([1, 2, 3, 4, 5])\n",
    "print(\"shape of orignal array: \", simple_array.shape,'\\n') # 1 row, 5 columns\n",
    "new_array = simple_array.reshape(5,1)\n",
    "print(\"new array: \", new_array,'\\n')\n",
    "print(\"shape of new array: \", new_array.shape) # 5 rows, 1 column\n",
    "another_array = np.array([1, 2, 3, 4, 5, 6])\n",
    "print(\"shape of another array: \", another_array.shape,'\\n') # 1 row, 6 columns\n",
    "another_new_array = another_array.reshape(2,3)\n",
    "print(\"another new array: \", another_new_array,'\\n')\n",
    "print(\"shape of another new array: \", another_new_array.shape) # 2 rows, 3 columns"
   ]
  },
  {
   "cell_type": "markdown",
   "metadata": {},
   "source": [
    "#### 5. np.concatenate()"
   ]
  },
  {
   "cell_type": "code",
   "execution_count": 51,
   "metadata": {},
   "outputs": [
    {
     "name": "stdout",
     "output_type": "stream",
     "text": [
      "concatenated array:  [ 1  2  3  4  5  6  7  8  9 10]\n",
      "new concatenated array:  [[ 1  6]\n",
      " [ 2  7]\n",
      " [ 3  8]\n",
      " [ 4  9]\n",
      " [ 5 10]]\n"
     ]
    }
   ],
   "source": [
    "# simply conacate two arrays sequence wise and column wise if axis is given as 1\n",
    "first_array = np.array([1, 2, 3, 4, 5])\n",
    "second_array = np.array([6, 7, 8, 9, 10])\n",
    "final_array = np.concatenate((first_array, second_array))\n",
    "print(\"concatenated array: \",final_array)\n",
    "new_first_array = first_array.reshape(5,1)\n",
    "new_second_array = second_array.reshape(5,1)\n",
    "new_final_array = np.concatenate((new_first_array, new_second_array), axis=1)   # axis=1 means concatenate along columns not simple concatenation with sequence\n",
    "print(\"new concatenated array: \",new_final_array)"
   ]
  },
  {
   "cell_type": "markdown",
   "metadata": {},
   "source": [
    "#### 6. np.mean()"
   ]
  },
  {
   "cell_type": "code",
   "execution_count": 48,
   "metadata": {},
   "outputs": [
    {
     "name": "stdout",
     "output_type": "stream",
     "text": [
      "3.0\n",
      "1.0\n"
     ]
    }
   ],
   "source": [
    "# simply calculates mean of the array\n",
    "simple_array = np.array([1, 2, 3, 4, 5])\n",
    "mean = np.mean(simple_array)\n",
    "print(mean)\n",
    "simple_array = np.ones(10)\n",
    "mean = np.mean(simple_array)\n",
    "print(mean)"
   ]
  },
  {
   "cell_type": "markdown",
   "metadata": {},
   "source": [
    "#### 7. np.sum()"
   ]
  },
  {
   "cell_type": "code",
   "execution_count": 37,
   "metadata": {},
   "outputs": [
    {
     "name": "stdout",
     "output_type": "stream",
     "text": [
      "15\n"
     ]
    }
   ],
   "source": [
    "# simply does the sum of every element in the array\n",
    "simple_array = np.array([1, 2, 3, 4, 5])\n",
    "sum = np.sum(simple_array)\n",
    "print(sum)"
   ]
  },
  {
   "cell_type": "markdown",
   "metadata": {},
   "source": [
    "#### 8. np.min()"
   ]
  },
  {
   "cell_type": "code",
   "execution_count": 38,
   "metadata": {},
   "outputs": [
    {
     "name": "stdout",
     "output_type": "stream",
     "text": [
      "1\n"
     ]
    }
   ],
   "source": [
    "# simply find the minimum value in the array\n",
    "simple_array = np.array([1, 2, 3, 4, 5])\n",
    "min = np.min(simple_array)\n",
    "print(min)"
   ]
  },
  {
   "cell_type": "markdown",
   "metadata": {},
   "source": [
    "#### 9. np.max()"
   ]
  },
  {
   "cell_type": "code",
   "execution_count": 39,
   "metadata": {},
   "outputs": [
    {
     "name": "stdout",
     "output_type": "stream",
     "text": [
      "5\n"
     ]
    }
   ],
   "source": [
    "# simply finds the maximum value in the array\n",
    "simple_array = np.array([1, 2, 3, 4, 5])\n",
    "max = np.max(simple_array)\n",
    "print(max)"
   ]
  },
  {
   "cell_type": "markdown",
   "metadata": {},
   "source": [
    "#### 10. np.argmax()"
   ]
  },
  {
   "cell_type": "code",
   "execution_count": 40,
   "metadata": {},
   "outputs": [
    {
     "name": "stdout",
     "output_type": "stream",
     "text": [
      "4\n"
     ]
    }
   ],
   "source": [
    "# simply finds the position of the maximum value in the array\n",
    "simple_array = np.array([1, 2, 3, 4, 5])\n",
    "argmax = np.argmax(simple_array)\n",
    "print(argmax)"
   ]
  },
  {
   "cell_type": "markdown",
   "metadata": {},
   "source": [
    "#### 11. np.argmin()"
   ]
  },
  {
   "cell_type": "code",
   "execution_count": 41,
   "metadata": {},
   "outputs": [
    {
     "name": "stdout",
     "output_type": "stream",
     "text": [
      "0\n"
     ]
    }
   ],
   "source": [
    "# simply finds the position of the minimum value in the array\n",
    "simple_array = np.array([1, 2, 3, 4, 5])\n",
    "argmin = np.argmin(simple_array)\n",
    "print(argmin)"
   ]
  },
  {
   "cell_type": "markdown",
   "metadata": {},
   "source": [
    "#### 12. np.random.rand()"
   ]
  },
  {
   "cell_type": "code",
   "execution_count": 57,
   "metadata": {},
   "outputs": [
    {
     "name": "stdout",
     "output_type": "stream",
     "text": [
      "[[0.88543375 0.26082813 0.60159586 0.91265112 0.88710219 0.01177819\n",
      "  0.58014957 0.90286359 0.3140816  0.03211913]]\n"
     ]
    }
   ],
   "source": [
    "# simply creates an array of given dimention with random values from [0,1) with uniform distribution\n",
    "random_array = np.random.rand(1, 10)\n",
    "print(random_array)"
   ]
  },
  {
   "cell_type": "markdown",
   "metadata": {},
   "source": [
    "#### 13. np.random.randn()"
   ]
  },
  {
   "cell_type": "code",
   "execution_count": 58,
   "metadata": {},
   "outputs": [
    {
     "name": "stdout",
     "output_type": "stream",
     "text": [
      "[[-0.74867288 -0.02088257 -0.3178342   0.7662589  -1.66853937  0.32461019\n",
      "   1.59375689  0.76122732  0.08456865  0.71024295]]\n"
     ]
    }
   ],
   "source": [
    "# simply creates an array of given dimention with random values with standard normal distribution\n",
    "random_array = np.random.randn(1, 10)\n",
    "print(random_array)"
   ]
  },
  {
   "cell_type": "markdown",
   "metadata": {},
   "source": [
    "#### 14. np.random.randint()"
   ]
  },
  {
   "cell_type": "code",
   "execution_count": 70,
   "metadata": {},
   "outputs": [
    {
     "name": "stdout",
     "output_type": "stream",
     "text": [
      "[[5 2 5 4 8]\n",
      " [6 4 6 8 8]\n",
      " [5 1 3 0 1]\n",
      " [1 7 1 0 6]\n",
      " [5 5 2 0 0]]\n"
     ]
    }
   ],
   "source": [
    "# simply creates an array of given minimum, maximum input, shape and data type\n",
    "random_array = np.random.randint(10,size=(5,5),dtype=int)\n",
    "print(random_array)"
   ]
  },
  {
   "cell_type": "markdown",
   "metadata": {},
   "source": [
    "#### 15. np.dot()"
   ]
  },
  {
   "cell_type": "code",
   "execution_count": 55,
   "metadata": {},
   "outputs": [
    {
     "name": "stdout",
     "output_type": "stream",
     "text": [
      "dot product of 1 x 5 and 5 x 1 matrix :  [55] \n",
      "\n",
      "dot product of 2 x 3 and 3 x 2 matrix :  [[22 28]\n",
      " [49 64]]\n"
     ]
    }
   ],
   "source": [
    "# simply performs dot product of two input arrays\n",
    "first_array = np.array([1, 2, 3, 4, 5])\n",
    "second_array = first_array.reshape(5,1)\n",
    "dot_product = np.dot(first_array, second_array)\n",
    "print(\"dot product of 1 x 5 and 5 x 1 matrix : \",dot_product,'\\n')\n",
    "another_array = np.array([1, 2, 3, 4, 5, 6])\n",
    "another_new_array = another_array.reshape(2,3)\n",
    "another_array = another_array.reshape(3,2)\n",
    "dot_product = np.dot(another_new_array, another_array)\n",
    "print(\"dot product of 2 x 3 and 3 x 2 matrix : \",dot_product)"
   ]
  }
 ],
 "metadata": {
  "kernelspec": {
   "display_name": "Python 3",
   "language": "python",
   "name": "python3"
  },
  "language_info": {
   "codemirror_mode": {
    "name": "ipython",
    "version": 3
   },
   "file_extension": ".py",
   "mimetype": "text/x-python",
   "name": "python",
   "nbconvert_exporter": "python",
   "pygments_lexer": "ipython3",
   "version": "3.11.0"
  }
 },
 "nbformat": 4,
 "nbformat_minor": 2
}
